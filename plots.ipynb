{
 "cells": [
  {
   "cell_type": "code",
   "execution_count": 1,
   "metadata": {},
   "outputs": [],
   "source": [
    "import csv\n",
    "import os\n",
    "import pandas as pd\n",
    "import seaborn as sns\n",
    "from pathlib import Path"
   ]
  },
  {
   "cell_type": "code",
   "execution_count": 2,
   "metadata": {},
   "outputs": [],
   "source": [
    "def get_experiment_dataframe(experiment_csv_folder_path):\n",
    "    path = experiment_csv_folder_path\n",
    "    # or unix / linux / mac path\n",
    "\n",
    "    # Get the files from the path provided in the OP\n",
    "    files = Path(path).glob('*.csv')  # .rglob to get subdirectories\n",
    "\n",
    "    # for f in files:\n",
    "    #     print(f.stem)\n",
    "\n",
    "\n",
    "    dfs = list()\n",
    "    for f in files:\n",
    "        data = pd.read_csv(f, index_col=\"id\", header=0)\n",
    "        # .stem is method for pathlib objects to get the filename w/o the extension\n",
    "        data['file'] = f.stem\n",
    "        dfs.append(data)\n",
    "\n",
    "    exp_df = pd.concat(dfs, ignore_index=False)\n",
    "    exp_df['setting'] = 'W' + exp_df['warmup_epochs'].astype(str) + \"-INT\" + exp_df['interval_epochs'].astype(str)\n",
    "    return exp_df\n",
    "\n",
    "\n",
    "def get_top_n_settings(experiment_dataframe, n=5):\n",
    "\n",
    "    #standard deviation is rounded to 3 decimal places\n",
    "    means = experiment_dataframe.groupby(['warmup_epochs', 'interval_epochs'])[\n",
    "        'best_accuracy'].mean().round(3)\n",
    "\n",
    "    list_of_settings = []\n",
    "    for setting, i in means.nlargest(n).items():\n",
    "        list_of_settings.append(setting)\n",
    "    return list_of_settings\n",
    "\n",
    "\n",
    "def output_latex_table_content(experiment_dataframe, output_file_name):\n",
    "\n",
    "    #standard deviation is rounded to 3 decimal places\n",
    "    means = experiment_dataframe.groupby(['warmup_epochs', 'interval_epochs'])[\n",
    "        'best_accuracy'].mean().round(3)\n",
    "    stds = experiment_dataframe.groupby(['warmup_epochs', 'interval_epochs'])[\n",
    "        'best_accuracy'].std().round(3)\n",
    "\n",
    "    table_values = means.astype(str) + \"$\\pm$\" + stds.astype(str)\n",
    "\n",
    "    warmups = [10, 15, 20, 30, 40, 60]\n",
    "    intervals = [1, 5, 8, 10, 15, 30]\n",
    "    table_latex_string = \"\"\n",
    "    for warmup in warmups:\n",
    "        table_latex_string += f\"{warmup}\"\n",
    "        for interval in intervals:\n",
    "            table_latex_string += \"& \" + f\"{table_values[warmup][interval]}\"\n",
    "            if interval == 30:\n",
    "                table_latex_string += \" \\\\\\\\ \\n\"\n",
    "\n",
    "    with open(output_file_name, \"w\") as text_file:\n",
    "        text_file.write(table_latex_string)\n"
   ]
  },
  {
   "cell_type": "code",
   "execution_count": 3,
   "metadata": {},
   "outputs": [],
   "source": [
    "# baselines statistics\n",
    "def get_baselines_stats(baseline_csvs_folder_path):\n",
    "\n",
    "    path = baseline_csvs_folder_path\n",
    "\n",
    "    # Get the files from the path provided in the OP\n",
    "    files = Path(path).glob('*.csv')  # .rglob to get subdirectories\n",
    "\n",
    "\n",
    "    dfs = list()\n",
    "    for f in files:\n",
    "        data = pd.read_csv(f, index_col=\"id\", header=0)\n",
    "        # .stem is method for pathlib objects to get the filename w/o the extension\n",
    "        data['file'] = f.stem\n",
    "        dfs.append(data)\n",
    "\n",
    "    baselines_df = pd.concat(dfs, ignore_index=False)\n",
    "    baselines_df['setting'] = \"vanilla\"\n",
    "\n",
    "\n",
    "    #standard deviation is rounded to 3 decimal places\n",
    "    baselines_means = baselines_df.groupby(['dataset', 'model'])[\n",
    "        'best_accuracy'].mean().round(3)\n",
    "    baselines_stds = baselines_df.groupby(['dataset', 'model'])[\n",
    "        'best_accuracy'].std().round(3)\n",
    "    return baselines_df, baselines_means, baselines_stds\n",
    "\n"
   ]
  },
  {
   "cell_type": "code",
   "execution_count": 4,
   "metadata": {},
   "outputs": [],
   "source": [
    "def get_plot_df(model, dataset, experiment_df, baselines_df, number_of_experiments=5):    \n",
    "    plot_df = baselines_df[(baselines_df[\"model\"] == model) & (\n",
    "        baselines_df[\"dataset\"] == dataset)]\n",
    "    top_settings = get_top_n_settings(experiment_df, n=number_of_experiments)\n",
    "    for (warmup, interval) in top_settings:\n",
    "        setting_df = experiment_df[(experiment_df['warmup_epochs'] == warmup) & (experiment_df['interval_epochs'] == interval)]\n",
    "        plot_df = plot_df.append(setting_df)\n",
    "    return plot_df\n",
    "    # sns.set_style(\"whitegrid\")\n",
    "    # box_plot = sns.boxplot(data=plot_df, x=\"setting\",\n",
    "    #                     y=\"best_accuracy\")"
   ]
  },
  {
   "cell_type": "code",
   "execution_count": 5,
   "metadata": {},
   "outputs": [],
   "source": [
    "def draw_plot(model, dataset, experiment_folder_path):\n",
    "\n",
    "    exp_df = get_experiment_dataframe(experiment_folder_path)\n",
    "    baselines_df, baselines_means, baselines_stds = get_baselines_stats(\n",
    "        \"PaperCSVs/Baselines\")\n",
    "    sns.set_style(\"whitegrid\")\n",
    "    plot_df = get_plot_df(model, dataset, experiment_df=exp_df, baselines_df=baselines_df, )\n",
    "    box_plot = sns.boxplot(data=plot_df, x=\"setting\",\n",
    "                           y=\"best_accuracy\", \n",
    "                           showmeans=True,\n",
    "                           meanprops={\n",
    "                               \"marker\": \"s\", \"markerfacecolor\": \"white\", \"markeredgecolor\": \"blue\"}\n",
    "                           )\n",
    "\n",
    "    filename = experiment_folder_path.partition(\"/\")[2] + \".pdf\"\n",
    "    box_plot.get_figure().savefig(filename)\n",
    "    del box_plot\n",
    "    # return plot_df\n",
    "\n",
    "# offset from median for display\n",
    "# vertical_offset = exp_df['best_accuracy'].median() * 0.05\n",
    "\n",
    "# for xtick in box_plot.get_xticks():\n",
    "#     box_plot.text(xtick,mean_values[xtick] + 0.003 , [xtick], \n",
    "#             horizontalalignment='center',size='x-small',color='b',weight='semibold')"
   ]
  },
  {
   "cell_type": "code",
   "execution_count": 6,
   "metadata": {},
   "outputs": [],
   "source": [
    "list_of_workload_paths = [\"PaperCSVs/CIFAR10-ResNet18-Blocks-Variance\",\n",
    "                          \"PaperCSVs/CIFAR10-ResNet18-Stripes-Average\",\n",
    "                          \"PaperCSVs/CIFAR10-ResNet18-Stripes-Variance\",\n",
    "                          \"PaperCSVs/CIFAR10-ResNet34-Stripes-Variance\",\n",
    "                          \"PaperCSVs/CIFAR100-ResNet34-Stripes-Variance\",\n",
    "                          ]"
   ]
  },
  {
   "cell_type": "code",
   "execution_count": 7,
   "metadata": {},
   "outputs": [
    {
     "name": "stderr",
     "output_type": "stream",
     "text": [
      "/tmp/ipykernel_14940/2311284029.py:7: FutureWarning: The frame.append method is deprecated and will be removed from pandas in a future version. Use pandas.concat instead.\n",
      "  plot_df = plot_df.append(setting_df)\n",
      "/tmp/ipykernel_14940/2311284029.py:7: FutureWarning: The frame.append method is deprecated and will be removed from pandas in a future version. Use pandas.concat instead.\n",
      "  plot_df = plot_df.append(setting_df)\n",
      "/tmp/ipykernel_14940/2311284029.py:7: FutureWarning: The frame.append method is deprecated and will be removed from pandas in a future version. Use pandas.concat instead.\n",
      "  plot_df = plot_df.append(setting_df)\n",
      "/tmp/ipykernel_14940/2311284029.py:7: FutureWarning: The frame.append method is deprecated and will be removed from pandas in a future version. Use pandas.concat instead.\n",
      "  plot_df = plot_df.append(setting_df)\n",
      "/tmp/ipykernel_14940/2311284029.py:7: FutureWarning: The frame.append method is deprecated and will be removed from pandas in a future version. Use pandas.concat instead.\n",
      "  plot_df = plot_df.append(setting_df)\n"
     ]
    },
    {
     "data": {
      "image/png": "[encoded data removed]",
      "text/plain": [
       "<Figure size 432x288 with 1 Axes>"
      ]
     },
     "metadata": {},
     "output_type": "display_data"
    }
   ],
   "source": [
    "# Figure 5 (1)\n",
    "\n",
    "path = \"PaperCSVs/CIFAR10-ResNet18-Stripes-Variance\"\n",
    "draw_plot(\"resnet18\", \"cifar10\", path)"
   ]
  },
  {
   "cell_type": "code",
   "execution_count": 8,
   "metadata": {},
   "outputs": [
    {
     "name": "stderr",
     "output_type": "stream",
     "text": [
      "/tmp/ipykernel_14940/2311284029.py:7: FutureWarning: The frame.append method is deprecated and will be removed from pandas in a future version. Use pandas.concat instead.\n",
      "  plot_df = plot_df.append(setting_df)\n",
      "/tmp/ipykernel_14940/2311284029.py:7: FutureWarning: The frame.append method is deprecated and will be removed from pandas in a future version. Use pandas.concat instead.\n",
      "  plot_df = plot_df.append(setting_df)\n",
      "/tmp/ipykernel_14940/2311284029.py:7: FutureWarning: The frame.append method is deprecated and will be removed from pandas in a future version. Use pandas.concat instead.\n",
      "  plot_df = plot_df.append(setting_df)\n",
      "/tmp/ipykernel_14940/2311284029.py:7: FutureWarning: The frame.append method is deprecated and will be removed from pandas in a future version. Use pandas.concat instead.\n",
      "  plot_df = plot_df.append(setting_df)\n",
      "/tmp/ipykernel_14940/2311284029.py:7: FutureWarning: The frame.append method is deprecated and will be removed from pandas in a future version. Use pandas.concat instead.\n",
      "  plot_df = plot_df.append(setting_df)\n"
     ]
    },
    {
     "data": {
      "image/png": "[encoded data removed]",
      "text/plain": [
       "<Figure size 432x288 with 1 Axes>"
      ]
     },
     "metadata": {},
     "output_type": "display_data"
    }
   ],
   "source": [
    "# Figure 5 (2)\n",
    "\n",
    "path = \"PaperCSVs/CIFAR10-ResNet18-Stripes-Average\"\n",
    "draw_plot(\"resnet18\", \"cifar10\", path)"
   ]
  },
  {
   "cell_type": "code",
   "execution_count": 9,
   "metadata": {},
   "outputs": [
    {
     "name": "stderr",
     "output_type": "stream",
     "text": [
      "/tmp/ipykernel_14940/2311284029.py:7: FutureWarning: The frame.append method is deprecated and will be removed from pandas in a future version. Use pandas.concat instead.\n",
      "  plot_df = plot_df.append(setting_df)\n",
      "/tmp/ipykernel_14940/2311284029.py:7: FutureWarning: The frame.append method is deprecated and will be removed from pandas in a future version. Use pandas.concat instead.\n",
      "  plot_df = plot_df.append(setting_df)\n",
      "/tmp/ipykernel_14940/2311284029.py:7: FutureWarning: The frame.append method is deprecated and will be removed from pandas in a future version. Use pandas.concat instead.\n",
      "  plot_df = plot_df.append(setting_df)\n",
      "/tmp/ipykernel_14940/2311284029.py:7: FutureWarning: The frame.append method is deprecated and will be removed from pandas in a future version. Use pandas.concat instead.\n",
      "  plot_df = plot_df.append(setting_df)\n",
      "/tmp/ipykernel_14940/2311284029.py:7: FutureWarning: The frame.append method is deprecated and will be removed from pandas in a future version. Use pandas.concat instead.\n",
      "  plot_df = plot_df.append(setting_df)\n"
     ]
    },
    {
     "data": {
      "image/png": "[encoded data removed]",
      "text/plain": [
       "<Figure size 432x288 with 1 Axes>"
      ]
     },
     "metadata": {},
     "output_type": "display_data"
    }
   ],
   "source": [
    "# Figure 5 (3)\n",
    "\n",
    "path = \"PaperCSVs/CIFAR10-ResNet18-Blocks-Variance\"\n",
    "draw_plot(\"resnet18\", \"cifar10\", path)"
   ]
  },
  {
   "cell_type": "code",
   "execution_count": 10,
   "metadata": {},
   "outputs": [
    {
     "name": "stderr",
     "output_type": "stream",
     "text": [
      "/tmp/ipykernel_14940/2311284029.py:7: FutureWarning: The frame.append method is deprecated and will be removed from pandas in a future version. Use pandas.concat instead.\n",
      "  plot_df = plot_df.append(setting_df)\n",
      "/tmp/ipykernel_14940/2311284029.py:7: FutureWarning: The frame.append method is deprecated and will be removed from pandas in a future version. Use pandas.concat instead.\n",
      "  plot_df = plot_df.append(setting_df)\n",
      "/tmp/ipykernel_14940/2311284029.py:7: FutureWarning: The frame.append method is deprecated and will be removed from pandas in a future version. Use pandas.concat instead.\n",
      "  plot_df = plot_df.append(setting_df)\n",
      "/tmp/ipykernel_14940/2311284029.py:7: FutureWarning: The frame.append method is deprecated and will be removed from pandas in a future version. Use pandas.concat instead.\n",
      "  plot_df = plot_df.append(setting_df)\n",
      "/tmp/ipykernel_14940/2311284029.py:7: FutureWarning: The frame.append method is deprecated and will be removed from pandas in a future version. Use pandas.concat instead.\n",
      "  plot_df = plot_df.append(setting_df)\n"
     ]
    },
    {
     "data": {
      "image/png": "[encoded data removed]",
      "text/plain": [
       "<Figure size 432x288 with 1 Axes>"
      ]
     },
     "metadata": {},
     "output_type": "display_data"
    }
   ],
   "source": [
    "# Figure 5 (4)\n",
    "\n",
    "path = \"PaperCSVs/CIFAR10-ResNet34-Stripes-Variance\"\n",
    "draw_plot(\"resnet34\", \"cifar10\", path)"
   ]
  },
  {
   "cell_type": "code",
   "execution_count": 11,
   "metadata": {},
   "outputs": [
    {
     "name": "stderr",
     "output_type": "stream",
     "text": [
      "/tmp/ipykernel_14940/2311284029.py:7: FutureWarning: The frame.append method is deprecated and will be removed from pandas in a future version. Use pandas.concat instead.\n",
      "  plot_df = plot_df.append(setting_df)\n",
      "/tmp/ipykernel_14940/2311284029.py:7: FutureWarning: The frame.append method is deprecated and will be removed from pandas in a future version. Use pandas.concat instead.\n",
      "  plot_df = plot_df.append(setting_df)\n",
      "/tmp/ipykernel_14940/2311284029.py:7: FutureWarning: The frame.append method is deprecated and will be removed from pandas in a future version. Use pandas.concat instead.\n",
      "  plot_df = plot_df.append(setting_df)\n",
      "/tmp/ipykernel_14940/2311284029.py:7: FutureWarning: The frame.append method is deprecated and will be removed from pandas in a future version. Use pandas.concat instead.\n",
      "  plot_df = plot_df.append(setting_df)\n",
      "/tmp/ipykernel_14940/2311284029.py:7: FutureWarning: The frame.append method is deprecated and will be removed from pandas in a future version. Use pandas.concat instead.\n",
      "  plot_df = plot_df.append(setting_df)\n"
     ]
    },
    {
     "data": {
      "image/png": "[encoded data removed]",
      "text/plain": [
       "<Figure size 432x288 with 1 Axes>"
      ]
     },
     "metadata": {},
     "output_type": "display_data"
    }
   ],
   "source": [
    "# Figure 5 (5)\n",
    "path = \"PaperCSVs/CIFAR100-ResNet34-Stripes-Variance\"\n",
    "draw_plot(\"resnet34\", \"cifar100\", path)\n"
   ]
  },
  {
   "cell_type": "markdown",
   "metadata": {},
   "source": []
  },
  {
   "cell_type": "code",
   "execution_count": 1,
   "metadata": {},
   "outputs": [],
   "source": [
    "# ONLY RUN THIS CELL IF YOU WANT TO FETCH RESULTS FROM YOUR WANDB PROJECT\n",
    "# in that case, replace the folder name, regex, etc. with your own settings\n",
    "import wandb\n",
    "\n",
    "api = wandb.Api(timeout=19)\n",
    "entity_project_string = \"YOUR_WORKSPACE/YOUR_PROJECT\"\n",
    "\n",
    "\n",
    "def get_wandb_csv(folder_name=None, experiment_names_regex=None, baseline=False):\n",
    "    # CHANGE THE REGEX HERE\n",
    "    experiment_names_regex = experiment_names_regex\n",
    "\n",
    "    # apparently returns in order of recency\n",
    "    # 31 runs -> 9.1 seconds\n",
    "    runs = api.runs(\n",
    "        path=entity_project_string,\n",
    "        filters={'display_name': {\"$regex\": experiment_names_regex}}\n",
    "    )\n",
    "\n",
    "    dict_accuracies = {}\n",
    "    dict_configs = {}\n",
    "    for run in runs:\n",
    "        list_acc = []\n",
    "        list_configs = [run.config[k] for k in ['warmup_epochs', 'interval_epochs',\n",
    "                                                'measure', 'heuristic', 'model', 'dataset']]  # to double check correct hyperparams\n",
    "        if run.state == \"finished\":\n",
    "            for i, row in run.history(keys=[\"test_accuracy\"]).iterrows():\n",
    "                list_acc.append(row[\"test_accuracy\"])\n",
    "            dict_accuracies[run.id] = list_acc\n",
    "            dict_configs[run.id] = list_configs\n",
    "\n",
    "    dict_best_accuracy = {}\n",
    "\n",
    "    for run_id in dict_accuracies:\n",
    "        accuracies = dict_accuracies[run_id]\n",
    "        best_accuracy = max(accuracies)\n",
    "        # +1 for epoch numbering\n",
    "        print(\n",
    "            f\"Best Accuracy for {run_id} is {max(accuracies)} at epoch {accuracies.index(best_accuracy)+1}\")\n",
    "    \n",
    "    if baseline:\n",
    "        csv_file_name = folder_name + \"/\" + \\\n",
    "            experiment_names_regex.partition(\"###T100-\")[0] + \".csv\"\n",
    "    else:\n",
    "        shortened_name = experiment_names_regex.partition(\"###T100-\")[2][:-1]\n",
    "        shortened_name = shortened_name.partition(\n",
    "            \"IG5-\")[0] + shortened_name.partition(\"IG5-\")[2]\n",
    "        csv_file_name = folder_name + \"/\" + shortened_name + \".csv\"\n",
    "\n",
    "    num_epochs = len(list_acc)\n",
    "\n",
    "    header = [f\"epoch_{i}\" for i in range(1, num_epochs+1)]\n",
    "\n",
    "    header.insert(0, 'id')\n",
    "    header = header+['best_accuracy', 'best_epoch'] + ['warmup_epochs',\n",
    "                                                       'interval_epochs', 'measure', 'heuristic', 'model', 'dataset']\n",
    "\n",
    "    \n",
    "    with open(csv_file_name, mode='x') as csv_file:\n",
    "        csv_writer = csv.writer(\n",
    "            csv_file, delimiter=',', quotechar='\"', quoting=csv.QUOTE_MINIMAL)\n",
    "\n",
    "        # write the header\n",
    "        csv_writer.writerow(header)\n",
    "\n",
    "        for run_id in dict_accuracies:\n",
    "            accuracies = dict_accuracies[run_id]\n",
    "            config = dict_configs[run_id]\n",
    "            best_accuracy = max(accuracies)\n",
    "            best_epoch = accuracies.index(best_accuracy) + 1\n",
    "            # +1 for epoch numbering\n",
    "            row = [run_id] + accuracies + [best_accuracy, best_epoch] + config\n",
    "            csv_writer.writerow(row)\n",
    "\n",
    "master_folder_name = \"PaperCSVs\"\n",
    "experiment_group = \"CIFAR100-ResNet34-Stripes-Variance\"\n",
    "base_regex = \"c100-resnet34###T100-\"\n",
    "\n",
    "warmups = [10, 15, 20, 30, 40, 60]\n",
    "intervals = [1, 5, 8, 10, 15, 30]\n",
    "\n",
    "list_regexes = []\n",
    "\n",
    "for warmup in warmups:\n",
    "    for interval in intervals:\n",
    "        list_regexes.append(base_regex+f\"W{warmup}-IG5-INT{interval}-\")\n",
    "\n",
    "# print(list_regexes)\n",
    "# len(list_regexes)\n",
    "\n",
    "if not os.path.exists(master_folder_name):\n",
    "    os.mkdir(master_folder_name)\n",
    "\n",
    "if not os.path.exists(master_folder_name+\"/\"+experiment_group):\n",
    "    os.mkdir(master_folder_name+\"/\"+experiment_group)\n",
    "\n",
    "for regex in list_regexes:\n",
    "    get_wandb_csv(folder_name=master_folder_name+\"/\" +\n",
    "                  experiment_group, experiment_names_regex=regex)\n",
    "\n",
    "# get baseline (vanilla) CSVs\n",
    "vanilla_regexes = [\"c10-vanilla-resnet18-batch256###T100-\",\n",
    "                   \"c10-vanilla-resnet34-total100###T100-\",\n",
    "                   \"c100-vanilla-resnet34-total100###T100-\",\n",
    "                   ]\n",
    "\n",
    "if not os.path.exists(\"Baselines\"):\n",
    "    os.mkdir(\"Baselines\")\n",
    "\n",
    "for regex in vanilla_regexes:\n",
    "    get_wandb_csv(folder_name=\"Baselines\", experiment_names_regex=regex, baseline=True)\n",
    "    "
   ]
  }
 ],
 "metadata": {
  "kernelspec": {
   "display_name": "pytorch",
   "language": "python",
   "name": "python3"
  },
  "language_info": {
   "codemirror_mode": {
    "name": "ipython",
    "version": 3
   },
   "file_extension": ".py",
   "mimetype": "text/x-python",
   "name": "python",
   "nbconvert_exporter": "python",
   "pygments_lexer": "ipython3",
   "version": "3.8.13"
  },
  "orig_nbformat": 4,
  "vscode": {
   "interpreter": {
    "hash": "31d4df3a9243ade48cc0110b4d1858354c8f7f5e18c5809ccbf3e110de45b2f6"
   }
  }
 },
 "nbformat": 4,
 "nbformat_minor": 2
}
